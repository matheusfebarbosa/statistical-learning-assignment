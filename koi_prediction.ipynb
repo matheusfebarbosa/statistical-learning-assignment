{
 "cells": [
  {
   "cell_type": "markdown",
   "metadata": {},
   "source": [
    "# Statistical Learning Assignment\n",
    "\n",
    ">***Name***: Matheus Felipe Eduardo Barbosa  \n",
    ">***Student ID***: XXXXXXXXXX  "
   ]
  },
  {
   "cell_type": "markdown",
   "metadata": {},
   "source": [
    "## Importing libraries"
   ]
  },
  {
   "cell_type": "code",
   "execution_count": 1,
   "metadata": {},
   "outputs": [
    {
     "name": "stderr",
     "output_type": "stream",
     "text": [
      "/home/matheusbarbosa/anaconda3/lib/python3.7/site-packages/sklearn/ensemble/weight_boosting.py:29: DeprecationWarning: numpy.core.umath_tests is an internal NumPy module and should not be imported. It will be removed in a future NumPy release.\n",
      "  from numpy.core.umath_tests import inner1d\n"
     ]
    }
   ],
   "source": [
    "import numpy as np\n",
    "import pandas as pd\n",
    "import matplotlib.pyplot as plt\n",
    "import warnings\n",
    "import seaborn as sns\n",
    "\n",
    "from sklearn.naive_bayes import GaussianNB\n",
    "from sklearn.tree import DecisionTreeClassifier\n",
    "from sklearn.svm import SVC\n",
    "from sklearn.neighbors import KNeighborsClassifier\n",
    "from sklearn.ensemble import RandomForestClassifier, GradientBoostingClassifier\n",
    "from sklearn.metrics import recall_score,accuracy_score,auc,roc_curve,f1_score\n",
    "from sklearn.model_selection import train_test_split\n",
    "\n",
    "warnings.filterwarnings('ignore')\n",
    "sns.set(rc={'figure.figsize':(7,7)})"
   ]
  },
  {
   "cell_type": "markdown",
   "metadata": {},
   "source": [
    "## The Dataset - Koi Data"
   ]
  },
  {
   "cell_type": "code",
   "execution_count": 2,
   "metadata": {},
   "outputs": [
    {
     "data": {
      "text/html": [
       "<div>\n",
       "<style scoped>\n",
       "    .dataframe tbody tr th:only-of-type {\n",
       "        vertical-align: middle;\n",
       "    }\n",
       "\n",
       "    .dataframe tbody tr th {\n",
       "        vertical-align: top;\n",
       "    }\n",
       "\n",
       "    .dataframe thead th {\n",
       "        text-align: right;\n",
       "    }\n",
       "</style>\n",
       "<table border=\"1\" class=\"dataframe\">\n",
       "  <thead>\n",
       "    <tr style=\"text-align: right;\">\n",
       "      <th></th>\n",
       "      <th>kepoi_name</th>\n",
       "      <th>koi_disposition</th>\n",
       "      <th>koi_period</th>\n",
       "      <th>koi_impact</th>\n",
       "      <th>koi_duration</th>\n",
       "      <th>koi_depth</th>\n",
       "      <th>koi_ror</th>\n",
       "      <th>koi_srho</th>\n",
       "      <th>koi_prad</th>\n",
       "      <th>koi_sma</th>\n",
       "      <th>...</th>\n",
       "      <th>koi_fwm_srao</th>\n",
       "      <th>koi_fwm_sdeco</th>\n",
       "      <th>koi_fwm_prao</th>\n",
       "      <th>koi_fwm_pdeco</th>\n",
       "      <th>koi_dicco_mra</th>\n",
       "      <th>koi_dicco_mdec</th>\n",
       "      <th>koi_dicco_msky</th>\n",
       "      <th>koi_dikco_mra</th>\n",
       "      <th>koi_dikco_mdec</th>\n",
       "      <th>koi_dikco_msky</th>\n",
       "    </tr>\n",
       "  </thead>\n",
       "  <tbody>\n",
       "    <tr>\n",
       "      <th>0</th>\n",
       "      <td>K00752.01</td>\n",
       "      <td>CONFIRMED</td>\n",
       "      <td>9.48804</td>\n",
       "      <td>0.146</td>\n",
       "      <td>2.95750</td>\n",
       "      <td>615.8</td>\n",
       "      <td>0.02234</td>\n",
       "      <td>3.20796</td>\n",
       "      <td>2.26</td>\n",
       "      <td>0.0853</td>\n",
       "      <td>...</td>\n",
       "      <td>0.430</td>\n",
       "      <td>0.940</td>\n",
       "      <td>-0.00020</td>\n",
       "      <td>-0.00055</td>\n",
       "      <td>-0.010</td>\n",
       "      <td>0.200</td>\n",
       "      <td>0.200</td>\n",
       "      <td>0.080</td>\n",
       "      <td>0.310</td>\n",
       "      <td>0.320</td>\n",
       "    </tr>\n",
       "    <tr>\n",
       "      <th>1</th>\n",
       "      <td>K00752.02</td>\n",
       "      <td>CONFIRMED</td>\n",
       "      <td>54.41838</td>\n",
       "      <td>0.586</td>\n",
       "      <td>4.50700</td>\n",
       "      <td>874.8</td>\n",
       "      <td>0.02795</td>\n",
       "      <td>3.02368</td>\n",
       "      <td>2.83</td>\n",
       "      <td>0.2734</td>\n",
       "      <td>...</td>\n",
       "      <td>-0.630</td>\n",
       "      <td>1.230</td>\n",
       "      <td>0.00066</td>\n",
       "      <td>-0.00105</td>\n",
       "      <td>0.390</td>\n",
       "      <td>0.000</td>\n",
       "      <td>0.390</td>\n",
       "      <td>0.490</td>\n",
       "      <td>0.120</td>\n",
       "      <td>0.500</td>\n",
       "    </tr>\n",
       "    <tr>\n",
       "      <th>2</th>\n",
       "      <td>K00754.01</td>\n",
       "      <td>FALSE POSITIVE</td>\n",
       "      <td>1.73695</td>\n",
       "      <td>1.276</td>\n",
       "      <td>2.40641</td>\n",
       "      <td>8079.2</td>\n",
       "      <td>0.38739</td>\n",
       "      <td>0.22080</td>\n",
       "      <td>33.46</td>\n",
       "      <td>0.0267</td>\n",
       "      <td>...</td>\n",
       "      <td>-0.111</td>\n",
       "      <td>0.002</td>\n",
       "      <td>0.00302</td>\n",
       "      <td>-0.00142</td>\n",
       "      <td>-0.249</td>\n",
       "      <td>0.147</td>\n",
       "      <td>0.289</td>\n",
       "      <td>-0.257</td>\n",
       "      <td>0.099</td>\n",
       "      <td>0.276</td>\n",
       "    </tr>\n",
       "  </tbody>\n",
       "</table>\n",
       "<p>3 rows × 43 columns</p>\n",
       "</div>"
      ],
      "text/plain": [
       "  kepoi_name koi_disposition  koi_period  koi_impact  koi_duration  koi_depth  \\\n",
       "0  K00752.01       CONFIRMED     9.48804       0.146       2.95750      615.8   \n",
       "1  K00752.02       CONFIRMED    54.41838       0.586       4.50700      874.8   \n",
       "2  K00754.01  FALSE POSITIVE     1.73695       1.276       2.40641     8079.2   \n",
       "\n",
       "   koi_ror  koi_srho  koi_prad  koi_sma       ...        koi_fwm_srao  \\\n",
       "0  0.02234   3.20796      2.26   0.0853       ...               0.430   \n",
       "1  0.02795   3.02368      2.83   0.2734       ...              -0.630   \n",
       "2  0.38739   0.22080     33.46   0.0267       ...              -0.111   \n",
       "\n",
       "   koi_fwm_sdeco  koi_fwm_prao  koi_fwm_pdeco  koi_dicco_mra  koi_dicco_mdec  \\\n",
       "0          0.940      -0.00020       -0.00055         -0.010           0.200   \n",
       "1          1.230       0.00066       -0.00105          0.390           0.000   \n",
       "2          0.002       0.00302       -0.00142         -0.249           0.147   \n",
       "\n",
       "   koi_dicco_msky  koi_dikco_mra  koi_dikco_mdec  koi_dikco_msky  \n",
       "0           0.200          0.080           0.310           0.320  \n",
       "1           0.390          0.490           0.120           0.500  \n",
       "2           0.289         -0.257           0.099           0.276  \n",
       "\n",
       "[3 rows x 43 columns]"
      ]
     },
     "execution_count": 2,
     "metadata": {},
     "output_type": "execute_result"
    }
   ],
   "source": [
    "data = pd.read_csv('koi_data.csv')\n",
    "data.head(3)"
   ]
  },
  {
   "cell_type": "code",
   "execution_count": 3,
   "metadata": {},
   "outputs": [
    {
     "data": {
      "text/plain": [
       "(array([ 9.488040e+00,  1.460000e-01,  2.957500e+00,  6.158000e+02,\n",
       "         2.234000e-02,  3.207960e+00,  2.260000e+00,  8.530000e-02,\n",
       "         8.966000e+01,  7.930000e+02,  9.359000e+01,  2.481000e+01,\n",
       "         5.135850e+00,  2.847082e+01,  3.580000e+01,  5.455000e+03,\n",
       "         4.467000e+00,  1.400000e-01,  9.270000e-01,  9.190000e-01,\n",
       "         1.534700e+01,  1.589000e+01,  1.527000e+01,  1.511400e+01,\n",
       "         1.500600e+01,  1.408200e+01,  1.375100e+01,  1.364800e+01,\n",
       "         2.000000e-03,  1.946229e+01,  4.814191e+01,  4.300000e-01,\n",
       "         9.400000e-01, -2.000000e-04, -5.500000e-04, -1.000000e-02,\n",
       "         2.000000e-01,  2.000000e-01,  8.000000e-02,  3.100000e-01,\n",
       "         3.200000e-01]), array(['CONFIRMED'], dtype=object))"
      ]
     },
     "execution_count": 3,
     "metadata": {},
     "output_type": "execute_result"
    }
   ],
   "source": [
    "X = data.drop(['koi_disposition','kepoi_name'], axis=1).values\n",
    "y_raw = data[['koi_disposition']].values\n",
    "X[0],y_raw[0]"
   ]
  },
  {
   "cell_type": "code",
   "execution_count": 4,
   "metadata": {},
   "outputs": [
    {
     "data": {
      "text/plain": [
       "[1, 1, 0, 1, 0, 1]"
      ]
     },
     "execution_count": 4,
     "metadata": {},
     "output_type": "execute_result"
    }
   ],
   "source": [
    "y = [1 if a=='CONFIRMED' else 0 for a in y_raw]\n",
    "y[0:6]"
   ]
  },
  {
   "cell_type": "code",
   "execution_count": 5,
   "metadata": {},
   "outputs": [
    {
     "data": {
      "text/plain": [
       "array([-3.11552502e-01, -2.17319544e-01, -3.80571490e-01, -3.09397977e-01,\n",
       "       -8.23154215e-02, -8.25381058e-03, -2.97263067e-02, -3.01305357e-01,\n",
       "        5.19926794e-01, -4.52126601e-01, -9.73820708e-02, -1.36055965e-01,\n",
       "       -2.24935695e-01, -2.52254091e-01, -3.13654259e-01, -3.09824353e-01,\n",
       "        3.50917519e-01,  9.29173103e-01, -1.60045387e-01, -2.72078747e-01,\n",
       "        7.81871455e-01,  6.98268274e-01,  7.55438145e-01,  8.15252487e-01,\n",
       "        8.25355981e-01,  8.51589183e-01,  9.04054732e-01,  8.77675763e-01,\n",
       "       -5.06216035e-01, -2.98603423e-02,  1.18445742e+00,  7.15711889e-02,\n",
       "        1.18427597e-01,  9.61883141e-04, -1.27561093e-02,  1.61201626e-02,\n",
       "        1.04655808e-01, -5.49766026e-01,  4.80361878e-02,  1.49476110e-01,\n",
       "       -5.09226942e-01])"
      ]
     },
     "execution_count": 5,
     "metadata": {},
     "output_type": "execute_result"
    }
   ],
   "source": [
    "from sklearn import preprocessing\n",
    "\n",
    "scaler = preprocessing.StandardScaler().fit(X)\n",
    "X_scaled = scaler.transform(X)\n",
    "X_scaled[0]"
   ]
  },
  {
   "cell_type": "code",
   "execution_count": 6,
   "metadata": {},
   "outputs": [],
   "source": [
    "def generate_folds(X,y,k):\n",
    "    data_index = np.array((range(0,len(X))))\n",
    "    np.random.shuffle(data_index)\n",
    "    fold_index = np.array_split(data_index,k)\n",
    "\n",
    "    folds = []\n",
    "    for fi in fold_index:\n",
    "        fold_x = np.array([X[i] for i in fi])\n",
    "        fold_y = np.array([y[i] for i in fi])\n",
    "        folds.append((fold_x,fold_y))\n",
    "        \n",
    "    return folds\n",
    "\n",
    "def flatten_folds(folds):\n",
    "    X = np.concatenate([x for x,_ in folds],axis=0)\n",
    "    y = np.concatenate([x for _,x in folds],axis=0)\n",
    "        \n",
    "    return X,y\n",
    "\n",
    "def k_fold_evaluate(model,folds, metric_f):\n",
    "    mean_acc = 0\n",
    "    train_acc = 0\n",
    "    for fold in range(0,k):\n",
    "        train_folds = folds[0:fold] + folds[fold+1:k]\n",
    "        test_fold = folds[fold]\n",
    "\n",
    "        X_train,y_train = flatten_folds(train_folds)\n",
    "        X_test,y_test = test_fold[0],test_fold[1]\n",
    "\n",
    "        trained_model = model.fit(X_train,y_train)\n",
    "        \n",
    "        y_pred = trained_model.predict(X_test)\n",
    "        mean_acc += metric_f(y_test, y_pred)\n",
    "        \n",
    "        y_pred = trained_model.predict(X_train)\n",
    "        train_acc += metric_f(y_train, y_pred)\n",
    "\n",
    "    return mean_acc / k, train_acc/k"
   ]
  },
  {
   "cell_type": "code",
   "execution_count": 7,
   "metadata": {},
   "outputs": [
    {
     "data": {
      "text/plain": [
       "(array([[ 0.06251629,  0.02203009, -0.32185818, ..., -0.07042909,\n",
       "          0.14618479, -0.49395229],\n",
       "        [-0.40558495,  0.10003752, -0.44388695, ..., -0.97149547,\n",
       "         -0.29814278,  0.21600063],\n",
       "        [-0.36223202, -0.1944881 , -0.38911793, ..., -4.63702216,\n",
       "          1.16612687,  3.16846284],\n",
       "        ...,\n",
       "        [-0.05687644,  0.19364644, -0.18601866, ..., -0.16333508,\n",
       "          0.17470953, -0.42617104],\n",
       "        [-0.32295105, -0.1834529 ,  0.2663852 , ...,  6.91253111,\n",
       "          2.88858193,  5.33969044],\n",
       "        [ 3.92565989, -0.26678767,  0.99727222, ...,  0.73367427,\n",
       "         -0.13211421, -0.02871197]]), array([0, 0, 0, ..., 0, 0, 0]))"
      ]
     },
     "metadata": {},
     "output_type": "display_data"
    }
   ],
   "source": [
    "k=5\n",
    "\n",
    "folds = generate_folds(X_scaled,y,k)\n",
    "display(folds[0])\n",
    "\n",
    "best_model = {}\n",
    "best_result = {}"
   ]
  },
  {
   "cell_type": "markdown",
   "metadata": {},
   "source": [
    "## Naive Bayes"
   ]
  },
  {
   "cell_type": "code",
   "execution_count": 8,
   "metadata": {},
   "outputs": [
    {
     "name": "stdout",
     "output_type": "stream",
     "text": [
      "Mean accuracy:  0.916379405896697\n"
     ]
    }
   ],
   "source": [
    "gnb = GaussianNB()\n",
    "\n",
    "baseline,_ = k_fold_evaluate(gnb,folds,accuracy_score)\n",
    "\n",
    "best_model['Naive Bayes'] = gnb\n",
    "best_result['Naive Bayes'] = baseline\n",
    "\n",
    "print(\"Mean accuracy: \",baseline)"
   ]
  },
  {
   "cell_type": "markdown",
   "metadata": {},
   "source": [
    "## Decision Tree"
   ]
  },
  {
   "cell_type": "code",
   "execution_count": 9,
   "metadata": {},
   "outputs": [
    {
     "name": "stdout",
     "output_type": "stream",
     "text": [
      "Mean accuracy:  0.9507897362003991\n"
     ]
    }
   ],
   "source": [
    "dtc = DecisionTreeClassifier()\n",
    "\n",
    "mean_acc,_ = k_fold_evaluate(dtc,folds,accuracy_score)\n",
    "\n",
    "best_model['Decision Tree'] = dtc\n",
    "best_result['Decision Tree'] = mean_acc\n",
    "\n",
    "print(\"Mean accuracy: \",mean_acc)"
   ]
  },
  {
   "cell_type": "code",
   "execution_count": 10,
   "metadata": {},
   "outputs": [
    {
     "data": {
      "image/png": "[encoded data removed]",
      "text/plain": [
       "<Figure size 432x288 with 1 Axes>"
      ]
     },
     "metadata": {
      "needs_background": "light"
     },
     "output_type": "display_data"
    }
   ],
   "source": [
    "tree_size =  list(range(1,40)) + [None]\n",
    "test_acc = [ ]\n",
    "train_acc = [ ]\n",
    "\n",
    "for s in tree_size:\n",
    "    dtc = DecisionTreeClassifier(max_depth = s)\n",
    "    tt_acc, tr_acc = k_fold_evaluate(dtc,folds,accuracy_score)\n",
    "    \n",
    "    if(tt_acc > best_result['Decision Tree']):\n",
    "        best_result['Decision Tree'] = tt_acc\n",
    "        best_model['Decision Tree'] = dtc\n",
    "    \n",
    "    train_acc.append(tr_acc)\n",
    "    test_acc.append(tt_acc)\n",
    "    \n",
    "plt.plot([str(x) for x in range(1,40)]+[\"None\"],test_acc, label='test')\n",
    "plt.plot([str(x) for x in range(1,40)]+[\"None\"],train_acc, label='train')\n",
    "plt.plot([str(x) for x in range(1,40)]+[\"None\"],[baseline for _ in range(1,41)],'k--', label='baseline')\n",
    "\n",
    "plt.title(\"Max Tree Depth vs Accuracy\")\n",
    "plt.gca().legend(('test','train','baseline'))\n",
    "plt.xticks([str(x) for x in range(1,40,5)]+[\"None\"])\n",
    "plt.show()"
   ]
  },
  {
   "cell_type": "markdown",
   "metadata": {},
   "source": [
    "## Support Vector Machines"
   ]
  },
  {
   "cell_type": "code",
   "execution_count": 11,
   "metadata": {},
   "outputs": [
    {
     "name": "stdout",
     "output_type": "stream",
     "text": [
      "Mean accuracy:  0.9350262321732064\n"
     ]
    }
   ],
   "source": [
    "svc = SVC(probability=True)\n",
    "\n",
    "mean_acc,_ = k_fold_evaluate(svc,folds,accuracy_score)\n",
    "\n",
    "best_model['SVM'] = svc\n",
    "best_result['SVM'] = mean_acc\n",
    "\n",
    "print(\"Mean accuracy: \",mean_acc)"
   ]
  },
  {
   "cell_type": "code",
   "execution_count": 12,
   "metadata": {},
   "outputs": [
    {
     "data": {
      "image/png": "[encoded data removed]",
      "text/plain": [
       "<Figure size 432x288 with 1 Axes>"
      ]
     },
     "metadata": {
      "needs_background": "light"
     },
     "output_type": "display_data"
    }
   ],
   "source": [
    "kernels = ['linear','sigmoid','poly','rbf']\n",
    "test_acc = []\n",
    "\n",
    "for kr in kernels:\n",
    "    svc = SVC(kernel = kr,probability=True)\n",
    "    tt_acc, _ = k_fold_evaluate(svc,folds,accuracy_score)\n",
    "    \n",
    "    if(tt_acc > best_result['SVM']):\n",
    "        best_result['SVM'] = tt_acc\n",
    "        best_model['SVM'] = svc\n",
    "    \n",
    "    test_acc.append(tt_acc)\n",
    "    \n",
    "plt.bar(kernels,test_acc,label='test')\n",
    "plt.plot(kernels,[baseline for _ in range(0,len(kernels))],'k--', label='baseline')\n",
    "plt.title(\"Kernel vs Accuracy\")\n",
    "plt.gca().legend(('baseline','test'))\n",
    "plt.ylim((0.8,1.0))\n",
    "plt.show()"
   ]
  },
  {
   "cell_type": "markdown",
   "metadata": {},
   "source": [
    "## KNN Classifier"
   ]
  },
  {
   "cell_type": "code",
   "execution_count": 13,
   "metadata": {},
   "outputs": [
    {
     "name": "stdout",
     "output_type": "stream",
     "text": [
      "Mean accuracy:  0.8915818739377818\n"
     ]
    }
   ],
   "source": [
    "knn = KNeighborsClassifier()\n",
    "\n",
    "mean_acc,_ = k_fold_evaluate(knn,folds,accuracy_score)\n",
    "\n",
    "best_model['KNN'] = knn\n",
    "best_result['KNN'] = mean_acc\n",
    "\n",
    "print(\"Mean accuracy: \",mean_acc)"
   ]
  },
  {
   "cell_type": "code",
   "execution_count": 14,
   "metadata": {},
   "outputs": [
    {
     "data": {
      "image/png": "[encoded data removed]",
      "text/plain": [
       "<Figure size 432x288 with 1 Axes>"
      ]
     },
     "metadata": {
      "needs_background": "light"
     },
     "output_type": "display_data"
    }
   ],
   "source": [
    "n_neigh =  list(range(1,40))\n",
    "test_acc = [ ]\n",
    "train_acc = [ ]\n",
    "for n in n_neigh:\n",
    "    knn = KNeighborsClassifier(n_neighbors=n)\n",
    "    tt_acc, tr_acc = k_fold_evaluate(knn,folds,accuracy_score)\n",
    "    \n",
    "    if(tt_acc > best_result['KNN']):\n",
    "        best_result['KNN'] = tt_acc\n",
    "        best_model['KNN'] = knn\n",
    "    \n",
    "    train_acc.append(tr_acc)\n",
    "    test_acc.append(tt_acc)\n",
    "    \n",
    "plt.plot(n_neigh,test_acc, label='test')\n",
    "plt.plot(n_neigh,train_acc, label='train')\n",
    "plt.plot(n_neigh,[baseline for _ in n_neigh],'k--', label='baseline')\n",
    "plt.title(\"# of Neighbors vs Accuracy\")\n",
    "plt.gca().legend(('test','train','baseline'))\n",
    "plt.show()"
   ]
  },
  {
   "cell_type": "markdown",
   "metadata": {},
   "source": [
    "## Random Forest"
   ]
  },
  {
   "cell_type": "code",
   "execution_count": 16,
   "metadata": {},
   "outputs": [
    {
     "name": "stdout",
     "output_type": "stream",
     "text": [
      "Mean accuracy:  0.9602078253158945\n"
     ]
    }
   ],
   "source": [
    "rfc = RandomForestClassifier()\n",
    "\n",
    "mean_acc,_ = k_fold_evaluate(rfc,folds,accuracy_score)\n",
    "\n",
    "best_model['Random Forest'] = rfc\n",
    "best_result['Random Forest'] = mean_acc\n",
    "\n",
    "print(\"Mean accuracy: \",mean_acc)"
   ]
  },
  {
   "cell_type": "code",
   "execution_count": 17,
   "metadata": {},
   "outputs": [
    {
     "data": {
      "image/png": "[encoded data removed]",
      "text/plain": [
       "<Figure size 432x288 with 1 Axes>"
      ]
     },
     "metadata": {
      "needs_background": "light"
     },
     "output_type": "display_data"
    }
   ],
   "source": [
    "n_trees =  list(range(1,100))\n",
    "test_acc = [ ]\n",
    "train_acc = [ ]\n",
    "for s in n_trees:\n",
    "    rfc = RandomForestClassifier(n_estimators = s)\n",
    "    tt_acc, tr_acc = k_fold_evaluate(rfc,folds,accuracy_score)\n",
    "    \n",
    "    if(tt_acc > best_result['Random Forest']):\n",
    "        best_result['Random Forest'] = tt_acc\n",
    "        best_model['Random Forest'] = rfc\n",
    "    \n",
    "    train_acc.append(tr_acc)\n",
    "    test_acc.append(tt_acc)\n",
    "    \n",
    "plt.plot(n_trees,test_acc, label='test')\n",
    "plt.plot(n_trees,train_acc, label='train')\n",
    "plt.plot(n_trees,[baseline for _ in n_trees],'k--', label='baseline')\n",
    "plt.title(\"# of Trees vs Accuracy\")\n",
    "plt.gca().legend(('test','train','baseline'))\n",
    "plt.show()"
   ]
  },
  {
   "cell_type": "markdown",
   "metadata": {},
   "source": [
    "## Gradient Boosting"
   ]
  },
  {
   "cell_type": "code",
   "execution_count": 18,
   "metadata": {},
   "outputs": [
    {
     "name": "stdout",
     "output_type": "stream",
     "text": [
      "Mean accuracy:  0.9703949604670067\n"
     ]
    }
   ],
   "source": [
    "gbc = GradientBoostingClassifier()\n",
    "\n",
    "mean_acc,_ = k_fold_evaluate(gbc,folds,accuracy_score)\n",
    "\n",
    "best_model['Gradient Bosting'] = gbc\n",
    "best_result['Gradient Bosting'] = mean_acc\n",
    "\n",
    "print(\"Mean accuracy: \",mean_acc)"
   ]
  },
  {
   "cell_type": "code",
   "execution_count": 19,
   "metadata": {},
   "outputs": [
    {
     "data": {
      "image/png": "[encoded data removed]",
      "text/plain": [
       "<Figure size 432x288 with 1 Axes>"
      ]
     },
     "metadata": {
      "needs_background": "light"
     },
     "output_type": "display_data"
    }
   ],
   "source": [
    "n_trees =  list(range(1,50))\n",
    "test_acc = [ ]\n",
    "train_acc = [ ]\n",
    "for s in n_trees:\n",
    "    gbc = GradientBoostingClassifier(n_estimators = s)\n",
    "    tt_acc, tr_acc = k_fold_evaluate(gbc,folds,accuracy_score)\n",
    "    \n",
    "    if(tt_acc > best_result['Gradient Bosting']):\n",
    "        best_result['Gradient Bosting'] = tt_acc\n",
    "        best_model['Gradient Bosting'] = gbc    \n",
    "    \n",
    "    train_acc.append(tr_acc)\n",
    "    test_acc.append(tt_acc)\n",
    "    \n",
    "plt.plot(n_trees,test_acc, label='test')\n",
    "plt.plot(n_trees,train_acc, label='train')\n",
    "plt.plot(n_trees,[baseline for _ in n_trees],'k--', label='baseline')\n",
    "plt.title(\"# of Trees vs Accuracy\")\n",
    "plt.gca().legend(('test','train','baseline'))\n",
    "plt.show()"
   ]
  },
  {
   "cell_type": "markdown",
   "metadata": {},
   "source": [
    "## Results"
   ]
  },
  {
   "cell_type": "code",
   "execution_count": 21,
   "metadata": {},
   "outputs": [
    {
     "data": {
      "image/png": "[encoded data removed]",
      "text/plain": [
       "<Figure size 432x288 with 1 Axes>"
      ]
     },
     "metadata": {
      "needs_background": "light"
     },
     "output_type": "display_data"
    }
   ],
   "source": [
    "results = pd.DataFrame(columns=['accuracy','recall','f1','auc'])\n",
    "rocs = {}\n",
    "\n",
    "for key, model in best_model.items():\n",
    "    X_train, X_test, y_train, y_test = train_test_split(X_scaled, y, test_size=0.3, random_state=42)\n",
    "    model.fit(X_train, y_train)\n",
    "\n",
    "    pred = model.predict(X_test)\n",
    "    probs = model.predict_proba(X_test)[:,1]\n",
    "\n",
    "    fpr, tpr, thresholds = roc_curve(y_test, probs)\n",
    "\n",
    "    sns.lineplot(fpr,tpr,label=key)\n",
    "\n",
    "    recall = recall_score(y_test,pred)\n",
    "    acc = accuracy_score(y_test,pred)\n",
    "    f1 = f1_score(y_test,pred)\n",
    "    roc_auc = auc(fpr, tpr)\n",
    "\n",
    "    results = results.append(pd.Series(\n",
    "                             {\"accuracy\": acc,\n",
    "                              \"recall\": recall,\n",
    "                              \"f1\": f1,\n",
    "                              \"auc\": roc_auc},name=key))\n",
    "        \n",
    "plt.ylabel(\"True positive rate\")\n",
    "plt.xlabel(\"False positive rate\")\n",
    "plt.title(\"ROC Curve\")\n",
    "plt.show()"
   ]
  },
  {
   "cell_type": "code",
   "execution_count": 22,
   "metadata": {},
   "outputs": [
    {
     "data": {
      "text/html": [
       "<div>\n",
       "<style scoped>\n",
       "    .dataframe tbody tr th:only-of-type {\n",
       "        vertical-align: middle;\n",
       "    }\n",
       "\n",
       "    .dataframe tbody tr th {\n",
       "        vertical-align: top;\n",
       "    }\n",
       "\n",
       "    .dataframe thead th {\n",
       "        text-align: right;\n",
       "    }\n",
       "</style>\n",
       "<table border=\"1\" class=\"dataframe\">\n",
       "  <thead>\n",
       "    <tr style=\"text-align: right;\">\n",
       "      <th></th>\n",
       "      <th>accuracy</th>\n",
       "      <th>recall</th>\n",
       "      <th>f1</th>\n",
       "      <th>auc</th>\n",
       "    </tr>\n",
       "  </thead>\n",
       "  <tbody>\n",
       "    <tr>\n",
       "      <th>Naive Bayes</th>\n",
       "      <td>0.906470</td>\n",
       "      <td>0.969502</td>\n",
       "      <td>0.892171</td>\n",
       "      <td>0.957482</td>\n",
       "    </tr>\n",
       "    <tr>\n",
       "      <th>Decision Tree</th>\n",
       "      <td>0.949391</td>\n",
       "      <td>0.956661</td>\n",
       "      <td>0.937844</td>\n",
       "      <td>0.946786</td>\n",
       "    </tr>\n",
       "    <tr>\n",
       "      <th>SVM</th>\n",
       "      <td>0.945548</td>\n",
       "      <td>0.969502</td>\n",
       "      <td>0.934261</td>\n",
       "      <td>0.988309</td>\n",
       "    </tr>\n",
       "    <tr>\n",
       "      <th>KNN</th>\n",
       "      <td>0.905189</td>\n",
       "      <td>0.947030</td>\n",
       "      <td>0.888554</td>\n",
       "      <td>0.945843</td>\n",
       "    </tr>\n",
       "    <tr>\n",
       "      <th>Random Forest</th>\n",
       "      <td>0.967329</td>\n",
       "      <td>0.963082</td>\n",
       "      <td>0.959233</td>\n",
       "      <td>0.995114</td>\n",
       "    </tr>\n",
       "    <tr>\n",
       "      <th>Gradient Bosting</th>\n",
       "      <td>0.971172</td>\n",
       "      <td>0.975923</td>\n",
       "      <td>0.964314</td>\n",
       "      <td>0.994928</td>\n",
       "    </tr>\n",
       "  </tbody>\n",
       "</table>\n",
       "</div>"
      ],
      "text/plain": [
       "                  accuracy    recall        f1       auc\n",
       "Naive Bayes       0.906470  0.969502  0.892171  0.957482\n",
       "Decision Tree     0.949391  0.956661  0.937844  0.946786\n",
       "SVM               0.945548  0.969502  0.934261  0.988309\n",
       "KNN               0.905189  0.947030  0.888554  0.945843\n",
       "Random Forest     0.967329  0.963082  0.959233  0.995114\n",
       "Gradient Bosting  0.971172  0.975923  0.964314  0.994928"
      ]
     },
     "metadata": {},
     "output_type": "display_data"
    },
    {
     "data": {
      "image/png": "[encoded data removed]",
      "text/plain": [
       "<Figure size 1080x720 with 1 Axes>"
      ]
     },
     "metadata": {},
     "output_type": "display_data"
    }
   ],
   "source": [
    "sns.set(rc={'figure.figsize':(15,10)})\n",
    "\n",
    "display(results)\n",
    "\n",
    "results.plot(y=['accuracy','recall','f1','auc'], \n",
    "             kind='bar',ylim=(0.8,1.0),\n",
    "             title='Overall Evaluation')\n",
    "\n",
    "plt.show()"
   ]
  },
  {
   "cell_type": "markdown",
   "metadata": {},
   "source": [
    "## Conclusions"
   ]
  },
  {
   "cell_type": "code",
   "execution_count": null,
   "metadata": {},
   "outputs": [],
   "source": []
  }
 ],
 "metadata": {
  "kernelspec": {
   "display_name": "Python 3",
   "language": "python",
   "name": "python3"
  },
  "language_info": {
   "codemirror_mode": {
    "name": "ipython",
    "version": 3
   },
   "file_extension": ".py",
   "mimetype": "text/x-python",
   "name": "python",
   "nbconvert_exporter": "python",
   "pygments_lexer": "ipython3",
   "version": "3.7.0"
  }
 },
 "nbformat": 4,
 "nbformat_minor": 2
}
