{
 "cells": [
  {
   "cell_type": "code",
   "execution_count": 68,
   "metadata": {},
   "outputs": [],
   "source": [
    "import numpy as np\n",
    "import pandas as pd\n",
    "import matplotlib.pyplot as plt\n",
    "import warnings\n",
    "\n",
    "warnings.filterwarnings('ignore')"
   ]
  },
  {
   "cell_type": "code",
   "execution_count": 2,
   "metadata": {},
   "outputs": [
    {
     "data": {
      "text/html": [
       "<div>\n",
       "<style scoped>\n",
       "    .dataframe tbody tr th:only-of-type {\n",
       "        vertical-align: middle;\n",
       "    }\n",
       "\n",
       "    .dataframe tbody tr th {\n",
       "        vertical-align: top;\n",
       "    }\n",
       "\n",
       "    .dataframe thead th {\n",
       "        text-align: right;\n",
       "    }\n",
       "</style>\n",
       "<table border=\"1\" class=\"dataframe\">\n",
       "  <thead>\n",
       "    <tr style=\"text-align: right;\">\n",
       "      <th></th>\n",
       "      <th>kepoi_name</th>\n",
       "      <th>koi_disposition</th>\n",
       "      <th>koi_period</th>\n",
       "      <th>koi_impact</th>\n",
       "      <th>koi_duration</th>\n",
       "      <th>koi_depth</th>\n",
       "      <th>koi_ror</th>\n",
       "      <th>koi_srho</th>\n",
       "      <th>koi_prad</th>\n",
       "      <th>koi_sma</th>\n",
       "      <th>...</th>\n",
       "      <th>koi_fwm_srao</th>\n",
       "      <th>koi_fwm_sdeco</th>\n",
       "      <th>koi_fwm_prao</th>\n",
       "      <th>koi_fwm_pdeco</th>\n",
       "      <th>koi_dicco_mra</th>\n",
       "      <th>koi_dicco_mdec</th>\n",
       "      <th>koi_dicco_msky</th>\n",
       "      <th>koi_dikco_mra</th>\n",
       "      <th>koi_dikco_mdec</th>\n",
       "      <th>koi_dikco_msky</th>\n",
       "    </tr>\n",
       "  </thead>\n",
       "  <tbody>\n",
       "    <tr>\n",
       "      <th>0</th>\n",
       "      <td>K00752.01</td>\n",
       "      <td>CONFIRMED</td>\n",
       "      <td>9.48804</td>\n",
       "      <td>0.146</td>\n",
       "      <td>2.95750</td>\n",
       "      <td>615.8</td>\n",
       "      <td>0.02234</td>\n",
       "      <td>3.20796</td>\n",
       "      <td>2.26</td>\n",
       "      <td>0.0853</td>\n",
       "      <td>...</td>\n",
       "      <td>0.430</td>\n",
       "      <td>0.940</td>\n",
       "      <td>-0.00020</td>\n",
       "      <td>-0.00055</td>\n",
       "      <td>-0.010</td>\n",
       "      <td>0.200</td>\n",
       "      <td>0.200</td>\n",
       "      <td>0.080</td>\n",
       "      <td>0.310</td>\n",
       "      <td>0.320</td>\n",
       "    </tr>\n",
       "    <tr>\n",
       "      <th>1</th>\n",
       "      <td>K00752.02</td>\n",
       "      <td>CONFIRMED</td>\n",
       "      <td>54.41838</td>\n",
       "      <td>0.586</td>\n",
       "      <td>4.50700</td>\n",
       "      <td>874.8</td>\n",
       "      <td>0.02795</td>\n",
       "      <td>3.02368</td>\n",
       "      <td>2.83</td>\n",
       "      <td>0.2734</td>\n",
       "      <td>...</td>\n",
       "      <td>-0.630</td>\n",
       "      <td>1.230</td>\n",
       "      <td>0.00066</td>\n",
       "      <td>-0.00105</td>\n",
       "      <td>0.390</td>\n",
       "      <td>0.000</td>\n",
       "      <td>0.390</td>\n",
       "      <td>0.490</td>\n",
       "      <td>0.120</td>\n",
       "      <td>0.500</td>\n",
       "    </tr>\n",
       "    <tr>\n",
       "      <th>2</th>\n",
       "      <td>K00754.01</td>\n",
       "      <td>FALSE POSITIVE</td>\n",
       "      <td>1.73695</td>\n",
       "      <td>1.276</td>\n",
       "      <td>2.40641</td>\n",
       "      <td>8079.2</td>\n",
       "      <td>0.38739</td>\n",
       "      <td>0.22080</td>\n",
       "      <td>33.46</td>\n",
       "      <td>0.0267</td>\n",
       "      <td>...</td>\n",
       "      <td>-0.111</td>\n",
       "      <td>0.002</td>\n",
       "      <td>0.00302</td>\n",
       "      <td>-0.00142</td>\n",
       "      <td>-0.249</td>\n",
       "      <td>0.147</td>\n",
       "      <td>0.289</td>\n",
       "      <td>-0.257</td>\n",
       "      <td>0.099</td>\n",
       "      <td>0.276</td>\n",
       "    </tr>\n",
       "  </tbody>\n",
       "</table>\n",
       "<p>3 rows × 43 columns</p>\n",
       "</div>"
      ],
      "text/plain": [
       "  kepoi_name koi_disposition  koi_period  koi_impact  koi_duration  koi_depth  \\\n",
       "0  K00752.01       CONFIRMED     9.48804       0.146       2.95750      615.8   \n",
       "1  K00752.02       CONFIRMED    54.41838       0.586       4.50700      874.8   \n",
       "2  K00754.01  FALSE POSITIVE     1.73695       1.276       2.40641     8079.2   \n",
       "\n",
       "   koi_ror  koi_srho  koi_prad  koi_sma  ...  koi_fwm_srao  koi_fwm_sdeco  \\\n",
       "0  0.02234   3.20796      2.26   0.0853  ...         0.430          0.940   \n",
       "1  0.02795   3.02368      2.83   0.2734  ...        -0.630          1.230   \n",
       "2  0.38739   0.22080     33.46   0.0267  ...        -0.111          0.002   \n",
       "\n",
       "   koi_fwm_prao  koi_fwm_pdeco  koi_dicco_mra  koi_dicco_mdec  koi_dicco_msky  \\\n",
       "0      -0.00020       -0.00055         -0.010           0.200           0.200   \n",
       "1       0.00066       -0.00105          0.390           0.000           0.390   \n",
       "2       0.00302       -0.00142         -0.249           0.147           0.289   \n",
       "\n",
       "   koi_dikco_mra  koi_dikco_mdec  koi_dikco_msky  \n",
       "0          0.080           0.310           0.320  \n",
       "1          0.490           0.120           0.500  \n",
       "2         -0.257           0.099           0.276  \n",
       "\n",
       "[3 rows x 43 columns]"
      ]
     },
     "execution_count": 2,
     "metadata": {},
     "output_type": "execute_result"
    }
   ],
   "source": [
    "data = pd.read_csv('koi_data.csv')\n",
    "data.head(3)"
   ]
  },
  {
   "cell_type": "code",
   "execution_count": 12,
   "metadata": {},
   "outputs": [
    {
     "data": {
      "text/plain": [
       "(array([ 9.488040e+00,  1.460000e-01,  2.957500e+00,  6.158000e+02,\n",
       "         2.234000e-02,  3.207960e+00,  2.260000e+00,  8.530000e-02,\n",
       "         8.966000e+01,  7.930000e+02,  9.359000e+01,  2.481000e+01,\n",
       "         5.135850e+00,  2.847082e+01,  3.580000e+01,  5.455000e+03,\n",
       "         4.467000e+00,  1.400000e-01,  9.270000e-01,  9.190000e-01,\n",
       "         1.534700e+01,  1.589000e+01,  1.527000e+01,  1.511400e+01,\n",
       "         1.500600e+01,  1.408200e+01,  1.375100e+01,  1.364800e+01,\n",
       "         2.000000e-03,  1.946229e+01,  4.814191e+01,  4.300000e-01,\n",
       "         9.400000e-01, -2.000000e-04, -5.500000e-04, -1.000000e-02,\n",
       "         2.000000e-01,  2.000000e-01,  8.000000e-02,  3.100000e-01,\n",
       "         3.200000e-01]), array(['CONFIRMED'], dtype=object))"
      ]
     },
     "execution_count": 12,
     "metadata": {},
     "output_type": "execute_result"
    }
   ],
   "source": [
    "X = data.drop(['koi_disposition','kepoi_name'], axis=1).values\n",
    "y_raw = data[['koi_disposition']].values\n",
    "X[0],y_raw[0]"
   ]
  },
  {
   "cell_type": "code",
   "execution_count": 13,
   "metadata": {},
   "outputs": [
    {
     "data": {
      "text/plain": [
       "[1, 1, 0, 1, 0, 1]"
      ]
     },
     "execution_count": 13,
     "metadata": {},
     "output_type": "execute_result"
    }
   ],
   "source": [
    "y = [1 if a=='CONFIRMED' else 0 for a in y_raw]\n",
    "y[0:6]"
   ]
  },
  {
   "cell_type": "code",
   "execution_count": 17,
   "metadata": {},
   "outputs": [
    {
     "data": {
      "text/plain": [
       "array([-3.11552502e-01, -2.17319544e-01, -3.80571490e-01, -3.09397977e-01,\n",
       "       -8.23154215e-02, -8.25381058e-03, -2.97263067e-02, -3.01305357e-01,\n",
       "        5.19926794e-01, -4.52126601e-01, -9.73820708e-02, -1.36055965e-01,\n",
       "       -2.24935695e-01, -2.52254091e-01, -3.13654259e-01, -3.09824353e-01,\n",
       "        3.50917519e-01,  9.29173103e-01, -1.60045387e-01, -2.72078747e-01,\n",
       "        7.81871455e-01,  6.98268274e-01,  7.55438145e-01,  8.15252487e-01,\n",
       "        8.25355981e-01,  8.51589183e-01,  9.04054732e-01,  8.77675763e-01,\n",
       "       -5.06216035e-01, -2.98603423e-02,  1.18445742e+00,  7.15711889e-02,\n",
       "        1.18427597e-01,  9.61883141e-04, -1.27561093e-02,  1.61201626e-02,\n",
       "        1.04655808e-01, -5.49766026e-01,  4.80361878e-02,  1.49476110e-01,\n",
       "       -5.09226942e-01])"
      ]
     },
     "execution_count": 17,
     "metadata": {},
     "output_type": "execute_result"
    }
   ],
   "source": [
    "from sklearn import preprocessing\n",
    "\n",
    "scaler = preprocessing.StandardScaler().fit(X)\n",
    "X_scaled = scaler.transform(X)\n",
    "X_scaled[0]"
   ]
  },
  {
   "cell_type": "code",
   "execution_count": 38,
   "metadata": {},
   "outputs": [
    {
     "data": {
      "text/plain": [
       "(array([[ 0.34001808,  0.03991472,  0.24805848, ...,  0.06832134,\n",
       "          0.02879455, -0.56968909],\n",
       "        [-0.37031769, -0.10011813, -0.41755817, ..., -0.04933253,\n",
       "          0.18238926, -0.46149367],\n",
       "        [ 1.19345523, -0.2671682 ,  0.45144933, ..., -0.17510047,\n",
       "         -0.13942824, -0.3978493 ],\n",
       "        ...,\n",
       "        [-0.40143754, -0.16937351, -0.33281199, ...,  2.07655123,\n",
       "         -3.35211777,  2.75159223],\n",
       "        [ 1.17871179, -0.22721317,  0.16625687, ...,  0.008683  ,\n",
       "          0.05841638, -0.59100995],\n",
       "        [-0.41261869,  0.12477159, -0.62027392, ...,  2.93055607,\n",
       "          0.45849406,  1.70496061]]), array([1, 1, 1, ..., 0, 1, 0]))"
      ]
     },
     "execution_count": 38,
     "metadata": {},
     "output_type": "execute_result"
    }
   ],
   "source": [
    "k = 5\n",
    "\n",
    "data_index = np.array((range(0,len(X_scaled))))\n",
    "np.random.shuffle(data_index)\n",
    "fold_index = np.array_split(data_index,k)\n",
    "\n",
    "folds = []\n",
    "for fi in fold_index:\n",
    "    fold_x = np.array([X_scaled[i] for i in fi])\n",
    "    fold_y = np.array([y[i] for i in fi])\n",
    "    folds.append((fold_x,fold_y))\n",
    "\n",
    "folds[0]"
   ]
  },
  {
   "cell_type": "code",
   "execution_count": 55,
   "metadata": {},
   "outputs": [],
   "source": [
    "def flatten_folds(folds):\n",
    "    X = np.concatenate([x for x,_ in folds],axis=0)\n",
    "    y = np.concatenate([x for _,x in folds],axis=0)\n",
    "        \n",
    "    return X,y"
   ]
  },
  {
   "cell_type": "code",
   "execution_count": 64,
   "metadata": {},
   "outputs": [],
   "source": [
    "def k_fold_evaluate(model,folds):\n",
    "    from sklearn.metrics import accuracy_score\n",
    "    \n",
    "    mean_acc = 0\n",
    "    for fold in range(0,k):\n",
    "        train_folds = folds[0:fold] + folds[fold+1:k]\n",
    "        test_fold = folds[fold]\n",
    "\n",
    "        X_train,y_train = flatten_folds(train_folds)\n",
    "        X_test,y_test = test_fold[0],test_fold[1]\n",
    "\n",
    "        y_pred = model.fit(X_train,y_train).predict(X_test)\n",
    "        mean_acc += accuracy_score(y_test, y_pred)\n",
    "\n",
    "    return mean_acc / k"
   ]
  },
  {
   "cell_type": "code",
   "execution_count": 65,
   "metadata": {},
   "outputs": [
    {
     "name": "stdout",
     "output_type": "stream",
     "text": [
      "Mean accuracy:  0.9161861745363187\n"
     ]
    }
   ],
   "source": [
    "from sklearn.naive_bayes import GaussianNB\n",
    "\n",
    "gnb = GaussianNB()\n",
    "\n",
    "mean_acc = k_fold_evaluate(gnb,folds)\n",
    "\n",
    "print(\"Mean accuracy: \",mean_acc)"
   ]
  },
  {
   "cell_type": "code",
   "execution_count": 73,
   "metadata": {},
   "outputs": [
    {
     "name": "stdout",
     "output_type": "stream",
     "text": [
      "Mean accuracy:  0.9359874011675163\n"
     ]
    }
   ],
   "source": [
    "from sklearn.svm import SVC\n",
    "\n",
    "svc = SVC()\n",
    "\n",
    "mean_acc = k_fold_evaluate(svc,folds)\n",
    "\n",
    "print(\"Mean accuracy: \",mean_acc)"
   ]
  },
  {
   "cell_type": "code",
   "execution_count": null,
   "metadata": {},
   "outputs": [],
   "source": [
    "from sklearn.tree import DecisionTreeClassifier\n",
    "\n",
    "dtc = DecisionTreeClassifier()\n",
    "\n",
    "mean_acc = k_fold_evaluate(dtc,folds)\n",
    "\n",
    "print(\"Mean accuracy: \",mean_acc)"
   ]
  },
  {
   "cell_type": "code",
   "execution_count": 70,
   "metadata": {},
   "outputs": [
    {
     "name": "stdout",
     "output_type": "stream",
     "text": [
      "Mean accuracy:  0.8954269193822508\n"
     ]
    }
   ],
   "source": [
    "from sklearn.neighbors import KNeighborsClassifier\n",
    "\n",
    "knn = KNeighborsClassifier()\n",
    "\n",
    "mean_acc = k_fold_evaluate(knn,folds)\n",
    "\n",
    "print(\"Mean accuracy: \",mean_acc)"
   ]
  },
  {
   "cell_type": "code",
   "execution_count": 71,
   "metadata": {},
   "outputs": [
    {
     "name": "stdout",
     "output_type": "stream",
     "text": [
      "Mean accuracy:  0.9600162565580433\n"
     ]
    }
   ],
   "source": [
    "from sklearn.ensemble import RandomForestClassifier \n",
    "\n",
    "rfc = RandomForestClassifier()\n",
    "\n",
    "mean_acc = k_fold_evaluate(rfc,folds)\n",
    "\n",
    "print(\"Mean accuracy: \",mean_acc)"
   ]
  },
  {
   "cell_type": "code",
   "execution_count": 72,
   "metadata": {},
   "outputs": [
    {
     "name": "stdout",
     "output_type": "stream",
     "text": [
      "Mean accuracy:  0.9698198847262247\n"
     ]
    }
   ],
   "source": [
    "from sklearn.ensemble import GradientBoostingClassifier\n",
    "\n",
    "gbc = GradientBoostingClassifier()\n",
    "\n",
    "mean_acc = k_fold_evaluate(gbc,folds)\n",
    "\n",
    "print(\"Mean accuracy: \",mean_acc)"
   ]
  },
  {
   "cell_type": "code",
   "execution_count": null,
   "metadata": {},
   "outputs": [],
   "source": []
  }
 ],
 "metadata": {
  "kernelspec": {
   "display_name": "Python 3",
   "language": "python",
   "name": "python3"
  },
  "language_info": {
   "codemirror_mode": {
    "name": "ipython",
    "version": 3
   },
   "file_extension": ".py",
   "mimetype": "text/x-python",
   "name": "python",
   "nbconvert_exporter": "python",
   "pygments_lexer": "ipython3",
   "version": "3.7.3"
  }
 },
 "nbformat": 4,
 "nbformat_minor": 2
}
